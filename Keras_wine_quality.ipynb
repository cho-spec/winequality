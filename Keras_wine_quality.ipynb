{
  "nbformat": 4,
  "nbformat_minor": 0,
  "metadata": {
    "colab": {
      "provenance": []
    },
    "kernelspec": {
      "name": "python3",
      "display_name": "Python 3"
    },
    "language_info": {
      "name": "python"
    }
  },
  "cells": [
    {
      "cell_type": "code",
      "source": [
        "from google.colab import drive\n",
        "drive.mount('/content/drive')"
      ],
      "metadata": {
        "colab": {
          "base_uri": "https://localhost:8080/"
        },
        "id": "k9CMQTl8Vz4X",
        "outputId": "46aefba2-3fc5-45f1-9348-2f4852523b83"
      },
      "execution_count": null,
      "outputs": [
        {
          "output_type": "stream",
          "name": "stdout",
          "text": [
            "Mounted at /content/drive\n"
          ]
        }
      ]
    },
    {
      "cell_type": "markdown",
      "source": [
        "Import libraries and modules"
      ],
      "metadata": {
        "id": "wISsMYJfPqI_"
      }
    },
    {
      "cell_type": "code",
      "source": [
        "!pip install keras"
      ],
      "metadata": {
        "id": "6ip3B4-s9w4E"
      },
      "execution_count": null,
      "outputs": []
    },
    {
      "cell_type": "code",
      "source": [
        "!pip install tensorflow"
      ],
      "metadata": {
        "id": "rOHR2qHK92QP"
      },
      "execution_count": null,
      "outputs": []
    },
    {
      "cell_type": "code",
      "source": [
        "import pandas as pd\n",
        "from keras.models import Sequential #The Sequential class in Keras is used to build sequential models, which are a linear stack of layers.\n",
        "from keras.layers import Dense #Dense class in Keras is used to add a fully connected layer to a neural network. It is a layer where each neuron in the layer is connected to every neuron in the previous layer.\n",
        "from sklearn.model_selection import train_test_split #\"train_test_split\" function in scikit-learn is used to split a dataset into training and testing subsets.\n",
        "from sklearn.preprocessing import StandardScaler #\"StandardScaler\" class in scikit-learn is used for standardizing numerical features in a dataset."
      ],
      "metadata": {
        "id": "2aKBs1BdnVHl"
      },
      "execution_count": null,
      "outputs": []
    },
    {
      "cell_type": "markdown",
      "source": [
        "Import dataset"
      ],
      "metadata": {
        "id": "v4UIXTkOPs2D"
      }
    },
    {
      "cell_type": "code",
      "source": [
        "\n",
        "# Load the wine quality dataset\n",
        "wine_data = pd.read_csv('drive/My Drive/CSC 547/red-wine.csv')"
      ],
      "metadata": {
        "id": "4ydvP2TlndQq"
      },
      "execution_count": null,
      "outputs": []
    },
    {
      "cell_type": "markdown",
      "source": [
        "TODO: Inspect the dataset"
      ],
      "metadata": {
        "id": "fkQjiQytTx5h"
      }
    },
    {
      "cell_type": "code",
      "source": [
        "wine_data.head()"
      ],
      "metadata": {
        "colab": {
          "base_uri": "https://localhost:8080/",
          "height": 206
        },
        "id": "T_pSB3-sWQKS",
        "outputId": "8be18d53-4354-4422-dfa5-bf54c7b87bfd"
      },
      "execution_count": null,
      "outputs": [
        {
          "output_type": "execute_result",
          "data": {
            "text/plain": [
              "   fixed acidity  volatile acidity  citric acid  residual sugar  chlorides  \\\n",
              "0            7.4              0.70         0.00             1.9      0.076   \n",
              "1            7.8              0.88         0.00             2.6      0.098   \n",
              "2            7.8              0.76         0.04             2.3      0.092   \n",
              "3           11.2              0.28         0.56             1.9      0.075   \n",
              "4            7.4              0.70         0.00             1.9      0.076   \n",
              "\n",
              "   free sulfur dioxide  total sulfur dioxide  density    pH  sulphates  \\\n",
              "0                 11.0                  34.0   0.9978  3.51       0.56   \n",
              "1                 25.0                  67.0   0.9968  3.20       0.68   \n",
              "2                 15.0                  54.0   0.9970  3.26       0.65   \n",
              "3                 17.0                  60.0   0.9980  3.16       0.58   \n",
              "4                 11.0                  34.0   0.9978  3.51       0.56   \n",
              "\n",
              "   alcohol  quality  \n",
              "0      9.4        5  \n",
              "1      9.8        5  \n",
              "2      9.8        5  \n",
              "3      9.8        6  \n",
              "4      9.4        5  "
            ],
            "text/html": [
              "\n",
              "  <div id=\"df-760c36b3-de30-4322-b2e5-01fd413ed866\">\n",
              "    <div class=\"colab-df-container\">\n",
              "      <div>\n",
              "<style scoped>\n",
              "    .dataframe tbody tr th:only-of-type {\n",
              "        vertical-align: middle;\n",
              "    }\n",
              "\n",
              "    .dataframe tbody tr th {\n",
              "        vertical-align: top;\n",
              "    }\n",
              "\n",
              "    .dataframe thead th {\n",
              "        text-align: right;\n",
              "    }\n",
              "</style>\n",
              "<table border=\"1\" class=\"dataframe\">\n",
              "  <thead>\n",
              "    <tr style=\"text-align: right;\">\n",
              "      <th></th>\n",
              "      <th>fixed acidity</th>\n",
              "      <th>volatile acidity</th>\n",
              "      <th>citric acid</th>\n",
              "      <th>residual sugar</th>\n",
              "      <th>chlorides</th>\n",
              "      <th>free sulfur dioxide</th>\n",
              "      <th>total sulfur dioxide</th>\n",
              "      <th>density</th>\n",
              "      <th>pH</th>\n",
              "      <th>sulphates</th>\n",
              "      <th>alcohol</th>\n",
              "      <th>quality</th>\n",
              "    </tr>\n",
              "  </thead>\n",
              "  <tbody>\n",
              "    <tr>\n",
              "      <th>0</th>\n",
              "      <td>7.4</td>\n",
              "      <td>0.70</td>\n",
              "      <td>0.00</td>\n",
              "      <td>1.9</td>\n",
              "      <td>0.076</td>\n",
              "      <td>11.0</td>\n",
              "      <td>34.0</td>\n",
              "      <td>0.9978</td>\n",
              "      <td>3.51</td>\n",
              "      <td>0.56</td>\n",
              "      <td>9.4</td>\n",
              "      <td>5</td>\n",
              "    </tr>\n",
              "    <tr>\n",
              "      <th>1</th>\n",
              "      <td>7.8</td>\n",
              "      <td>0.88</td>\n",
              "      <td>0.00</td>\n",
              "      <td>2.6</td>\n",
              "      <td>0.098</td>\n",
              "      <td>25.0</td>\n",
              "      <td>67.0</td>\n",
              "      <td>0.9968</td>\n",
              "      <td>3.20</td>\n",
              "      <td>0.68</td>\n",
              "      <td>9.8</td>\n",
              "      <td>5</td>\n",
              "    </tr>\n",
              "    <tr>\n",
              "      <th>2</th>\n",
              "      <td>7.8</td>\n",
              "      <td>0.76</td>\n",
              "      <td>0.04</td>\n",
              "      <td>2.3</td>\n",
              "      <td>0.092</td>\n",
              "      <td>15.0</td>\n",
              "      <td>54.0</td>\n",
              "      <td>0.9970</td>\n",
              "      <td>3.26</td>\n",
              "      <td>0.65</td>\n",
              "      <td>9.8</td>\n",
              "      <td>5</td>\n",
              "    </tr>\n",
              "    <tr>\n",
              "      <th>3</th>\n",
              "      <td>11.2</td>\n",
              "      <td>0.28</td>\n",
              "      <td>0.56</td>\n",
              "      <td>1.9</td>\n",
              "      <td>0.075</td>\n",
              "      <td>17.0</td>\n",
              "      <td>60.0</td>\n",
              "      <td>0.9980</td>\n",
              "      <td>3.16</td>\n",
              "      <td>0.58</td>\n",
              "      <td>9.8</td>\n",
              "      <td>6</td>\n",
              "    </tr>\n",
              "    <tr>\n",
              "      <th>4</th>\n",
              "      <td>7.4</td>\n",
              "      <td>0.70</td>\n",
              "      <td>0.00</td>\n",
              "      <td>1.9</td>\n",
              "      <td>0.076</td>\n",
              "      <td>11.0</td>\n",
              "      <td>34.0</td>\n",
              "      <td>0.9978</td>\n",
              "      <td>3.51</td>\n",
              "      <td>0.56</td>\n",
              "      <td>9.4</td>\n",
              "      <td>5</td>\n",
              "    </tr>\n",
              "  </tbody>\n",
              "</table>\n",
              "</div>\n",
              "      <button class=\"colab-df-convert\" onclick=\"convertToInteractive('df-760c36b3-de30-4322-b2e5-01fd413ed866')\"\n",
              "              title=\"Convert this dataframe to an interactive table.\"\n",
              "              style=\"display:none;\">\n",
              "        \n",
              "  <svg xmlns=\"http://www.w3.org/2000/svg\" height=\"24px\"viewBox=\"0 0 24 24\"\n",
              "       width=\"24px\">\n",
              "    <path d=\"M0 0h24v24H0V0z\" fill=\"none\"/>\n",
              "    <path d=\"M18.56 5.44l.94 2.06.94-2.06 2.06-.94-2.06-.94-.94-2.06-.94 2.06-2.06.94zm-11 1L8.5 8.5l.94-2.06 2.06-.94-2.06-.94L8.5 2.5l-.94 2.06-2.06.94zm10 10l.94 2.06.94-2.06 2.06-.94-2.06-.94-.94-2.06-.94 2.06-2.06.94z\"/><path d=\"M17.41 7.96l-1.37-1.37c-.4-.4-.92-.59-1.43-.59-.52 0-1.04.2-1.43.59L10.3 9.45l-7.72 7.72c-.78.78-.78 2.05 0 2.83L4 21.41c.39.39.9.59 1.41.59.51 0 1.02-.2 1.41-.59l7.78-7.78 2.81-2.81c.8-.78.8-2.07 0-2.86zM5.41 20L4 18.59l7.72-7.72 1.47 1.35L5.41 20z\"/>\n",
              "  </svg>\n",
              "      </button>\n",
              "      \n",
              "  <style>\n",
              "    .colab-df-container {\n",
              "      display:flex;\n",
              "      flex-wrap:wrap;\n",
              "      gap: 12px;\n",
              "    }\n",
              "\n",
              "    .colab-df-convert {\n",
              "      background-color: #E8F0FE;\n",
              "      border: none;\n",
              "      border-radius: 50%;\n",
              "      cursor: pointer;\n",
              "      display: none;\n",
              "      fill: #1967D2;\n",
              "      height: 32px;\n",
              "      padding: 0 0 0 0;\n",
              "      width: 32px;\n",
              "    }\n",
              "\n",
              "    .colab-df-convert:hover {\n",
              "      background-color: #E2EBFA;\n",
              "      box-shadow: 0px 1px 2px rgba(60, 64, 67, 0.3), 0px 1px 3px 1px rgba(60, 64, 67, 0.15);\n",
              "      fill: #174EA6;\n",
              "    }\n",
              "\n",
              "    [theme=dark] .colab-df-convert {\n",
              "      background-color: #3B4455;\n",
              "      fill: #D2E3FC;\n",
              "    }\n",
              "\n",
              "    [theme=dark] .colab-df-convert:hover {\n",
              "      background-color: #434B5C;\n",
              "      box-shadow: 0px 1px 3px 1px rgba(0, 0, 0, 0.15);\n",
              "      filter: drop-shadow(0px 1px 2px rgba(0, 0, 0, 0.3));\n",
              "      fill: #FFFFFF;\n",
              "    }\n",
              "  </style>\n",
              "\n",
              "      <script>\n",
              "        const buttonEl =\n",
              "          document.querySelector('#df-760c36b3-de30-4322-b2e5-01fd413ed866 button.colab-df-convert');\n",
              "        buttonEl.style.display =\n",
              "          google.colab.kernel.accessAllowed ? 'block' : 'none';\n",
              "\n",
              "        async function convertToInteractive(key) {\n",
              "          const element = document.querySelector('#df-760c36b3-de30-4322-b2e5-01fd413ed866');\n",
              "          const dataTable =\n",
              "            await google.colab.kernel.invokeFunction('convertToInteractive',\n",
              "                                                     [key], {});\n",
              "          if (!dataTable) return;\n",
              "\n",
              "          const docLinkHtml = 'Like what you see? Visit the ' +\n",
              "            '<a target=\"_blank\" href=https://colab.research.google.com/notebooks/data_table.ipynb>data table notebook</a>'\n",
              "            + ' to learn more about interactive tables.';\n",
              "          element.innerHTML = '';\n",
              "          dataTable['output_type'] = 'display_data';\n",
              "          await google.colab.output.renderOutput(dataTable, element);\n",
              "          const docLink = document.createElement('div');\n",
              "          docLink.innerHTML = docLinkHtml;\n",
              "          element.appendChild(docLink);\n",
              "        }\n",
              "      </script>\n",
              "    </div>\n",
              "  </div>\n",
              "  "
            ]
          },
          "metadata": {},
          "execution_count": 5
        }
      ]
    },
    {
      "cell_type": "markdown",
      "source": [
        "Preprocess input data"
      ],
      "metadata": {
        "id": "MFygGkTEP0WT"
      }
    },
    {
      "cell_type": "code",
      "source": [
        "wine_data['quality'] = wine_data.quality.apply(lambda q: 0 if q <= 5 else 1)"
      ],
      "metadata": {
        "id": "ZMZ_dmfFytNO"
      },
      "execution_count": null,
      "outputs": []
    },
    {
      "cell_type": "code",
      "source": [
        "# Split the dataset into input features (X) and output (y)\n",
        "X = wine_data.drop('quality', axis=1)\n",
        "y = wine_data['quality']"
      ],
      "metadata": {
        "id": "sXTN5CCXnd7G"
      },
      "execution_count": null,
      "outputs": []
    },
    {
      "cell_type": "code",
      "source": [
        "# Normalize the input features\n",
        "scaler = StandardScaler() #scaler is an instance of the \"StandardScaler\" class\n",
        "X = scaler.fit_transform(X) #fit_transform method is used to compute the mean and standard deviation of each feature in X, and then transform X. resulting X matrix has zero mean and unit variance for each feature."
      ],
      "metadata": {
        "id": "faxxaUfjngFv"
      },
      "execution_count": null,
      "outputs": []
    },
    {
      "cell_type": "markdown",
      "source": [
        "Standardization is a common preprocessing technique in machine learning that scales the values of each feature so that they have a mean of 0 and a standard deviation of 1. This is often desirable because many machine learning algorithms assume that the features are normally distributed and have the same scale."
      ],
      "metadata": {
        "id": "7PQPkrU_nFOU"
      }
    },
    {
      "cell_type": "code",
      "source": [
        "# Split the dataset into training and testing sets\n",
        "X_train, X_test, y_train, y_test = train_test_split(X, y, test_size=0.2, random_state=42) \n",
        "#train_test_split function randomly splits the dataset into training and testing subsets  \n",
        "#test_size parameter which is set to 0.2 in this case, indicating that 20% of the data will be used for testing\n",
        "#random_state parameter is set to 42 to ensure that the random splitting is reproducible"
      ],
      "metadata": {
        "id": "k-1KuJ-KnimM"
      },
      "execution_count": null,
      "outputs": []
    },
    {
      "cell_type": "code",
      "source": [
        "print(X_train.shape)\n",
        "print(y_train.shape)\n",
        "print(X_test.shape)\n",
        "print(y_test.shape)"
      ],
      "metadata": {
        "colab": {
          "base_uri": "https://localhost:8080/"
        },
        "id": "VEyOW83aeASf",
        "outputId": "8ce6570d-5ebc-4eb4-fbf4-fbc1ee12b53c"
      },
      "execution_count": null,
      "outputs": [
        {
          "output_type": "stream",
          "name": "stdout",
          "text": [
            "(1279, 11)\n",
            "(1279,)\n",
            "(320, 11)\n",
            "(320,)\n"
          ]
        }
      ]
    },
    {
      "cell_type": "markdown",
      "source": [
        "Define model architecture"
      ],
      "metadata": {
        "id": "dKq8hQ07P9t4"
      }
    },
    {
      "cell_type": "code",
      "source": [
        "# Create the Keras model\n",
        "model = Sequential() #Sequential() function creates an empty model that can be modified by adding layers"
      ],
      "metadata": {
        "id": "2an8RcxonmnG"
      },
      "execution_count": null,
      "outputs": []
    },
    {
      "cell_type": "code",
      "source": [
        "model.add(Dense(64, input_dim=X_train.shape[1], activation='relu')) #add() method is used to add layers to the model\n",
        "#64, specifies the number of neurons in the layer\n",
        "#input_dim=X_train.shape[1], sets the input shape of the layer to the number of features in the training set\n",
        "#activation='relu', specifies the activation function to be used in the layer"
      ],
      "metadata": {
        "id": "7ohkVw9XgUs4"
      },
      "execution_count": null,
      "outputs": []
    },
    {
      "cell_type": "code",
      "source": [
        "model.add(Dense(32, activation='relu'))\n",
        "model.add(Dense(1, activation='sigmoid')) #output of this layer will be a probability between 0 and 1 "
      ],
      "metadata": {
        "id": "-_3iAgpGgVpL"
      },
      "execution_count": null,
      "outputs": []
    },
    {
      "cell_type": "markdown",
      "source": [
        "Compile model"
      ],
      "metadata": {
        "id": "MFS89WrRQBC8"
      }
    },
    {
      "cell_type": "code",
      "source": [
        "# Compile the model\n",
        "model.compile(loss='binary_crossentropy', optimizer='adam', metrics=['accuracy'])\n",
        "#loss='binary_crossentropy' - specifies the loss function to be used during training. Binary cross-entropy is a common loss function used for binary classification problems.\n",
        "#optimizer='adam' - specifies the optimization algorithm. \n",
        "#metrics=['accuracy'] - specifies the evaluation metric to be used during training and testing. Accuracy is the ratio of the number of correct predictions to the total number of predictions made by the model"
      ],
      "metadata": {
        "id": "4yZwOvxmnpvE"
      },
      "execution_count": null,
      "outputs": []
    },
    {
      "cell_type": "markdown",
      "source": [
        "Fit model on training data"
      ],
      "metadata": {
        "id": "T9nmHW8gQf6u"
      }
    },
    {
      "cell_type": "code",
      "source": [
        "# Train the model\n",
        "history = model.fit(X_train, y_train, epochs=5, batch_size=32, validation_data=(X_test, y_test))\n",
        "#fit method trains the model for a fixed number of epochs. In this case, model is trained for 50 epochs.\n",
        "#batch_size=32 - the number of samples to be used in each batch during training. typically set as a power of 2, such as 32, 64, or 128\n",
        "#history - contains information about the training process such as the loss and accuracy metrics for both the training and validation data"
      ],
      "metadata": {
        "id": "fIboIzWPnwCR",
        "colab": {
          "base_uri": "https://localhost:8080/"
        },
        "outputId": "fee34cdf-2a1d-4bf3-c6f8-09815581af98"
      },
      "execution_count": null,
      "outputs": [
        {
          "output_type": "stream",
          "name": "stdout",
          "text": [
            "Epoch 1/5\n",
            "40/40 [==============================] - 2s 9ms/step - loss: 0.6437 - accuracy: 0.6263 - val_loss: 0.5759 - val_accuracy: 0.7188\n",
            "Epoch 2/5\n",
            "40/40 [==============================] - 0s 5ms/step - loss: 0.5446 - accuracy: 0.7381 - val_loss: 0.5336 - val_accuracy: 0.7125\n",
            "Epoch 3/5\n",
            "40/40 [==============================] - 0s 4ms/step - loss: 0.5187 - accuracy: 0.7451 - val_loss: 0.5208 - val_accuracy: 0.7344\n",
            "Epoch 4/5\n",
            "40/40 [==============================] - 0s 4ms/step - loss: 0.5068 - accuracy: 0.7498 - val_loss: 0.5132 - val_accuracy: 0.7312\n",
            "Epoch 5/5\n",
            "40/40 [==============================] - 0s 3ms/step - loss: 0.4990 - accuracy: 0.7592 - val_loss: 0.5105 - val_accuracy: 0.7344\n"
          ]
        }
      ]
    },
    {
      "cell_type": "markdown",
      "source": [
        "**iteration size** = (number of training examples) / (batch size) = 1279 / 32 = 39.97\n",
        "iteration size refers to the number of passes through the entire training dataset that are needed to complete one epoch of training. <br>\n",
        "Iteration size is not an integer in this case, so round up to the nearest integer. The iteration size in this case would be 40."
      ],
      "metadata": {
        "id": "84NgufoSlwvg"
      }
    },
    {
      "cell_type": "markdown",
      "source": [
        "Evaluate model on test data"
      ],
      "metadata": {
        "id": "S2FdZ226Qp7h"
      }
    },
    {
      "cell_type": "code",
      "source": [
        "score = model.evaluate(X_test, y_test)\n",
        "#evaluate method computes the loss value and any other specified metrics for the test data\n",
        "#score will contain the computed loss value and the accuracy metric for the test data"
      ],
      "metadata": {
        "colab": {
          "base_uri": "https://localhost:8080/"
        },
        "id": "qn04Pg-JQq5T",
        "outputId": "a5b55c46-d506-4232-d0f0-f599b8ef5894"
      },
      "execution_count": null,
      "outputs": [
        {
          "output_type": "stream",
          "name": "stdout",
          "text": [
            "10/10 [==============================] - 0s 2ms/step - loss: 0.5105 - accuracy: 0.7344\n"
          ]
        }
      ]
    },
    {
      "cell_type": "code",
      "source": [
        "score"
      ],
      "metadata": {
        "colab": {
          "base_uri": "https://localhost:8080/"
        },
        "id": "uax0S3s-jpZo",
        "outputId": "45462d5c-e585-4ecd-a6c0-9ff37c14ccf6"
      },
      "execution_count": null,
      "outputs": [
        {
          "output_type": "execute_result",
          "data": {
            "text/plain": [
              "[0.5105079412460327, 0.734375]"
            ]
          },
          "metadata": {},
          "execution_count": 22
        }
      ]
    },
    {
      "cell_type": "markdown",
      "source": [
        "Visualize Accuracy and Loss"
      ],
      "metadata": {
        "id": "Qjw5Adk2Qzrd"
      }
    },
    {
      "cell_type": "code",
      "source": [
        "import matplotlib.pyplot as plt"
      ],
      "metadata": {
        "id": "l2H4pOn_crVk"
      },
      "execution_count": null,
      "outputs": []
    },
    {
      "cell_type": "code",
      "source": [
        "# Plot the training and validation accuracy over epochs\n",
        "plt.plot(history.history['accuracy']) #plt.plot() is a function used to create a line plot of two or more arrays of data\n",
        "plt.plot(history.history['val_accuracy'])\n",
        "plt.title('Model Accuracy')\n",
        "plt.ylabel('Accuracy')\n",
        "plt.xlabel('Epoch')\n",
        "plt.legend(['Train', 'Validation'], loc='upper left')\n",
        "plt.show()"
      ],
      "metadata": {
        "id": "zFG-6Ypscr7q",
        "colab": {
          "base_uri": "https://localhost:8080/",
          "height": 295
        },
        "outputId": "67eac0a8-ede6-4fd2-ca9a-4e07c32a2459"
      },
      "execution_count": null,
      "outputs": [
        {
          "output_type": "display_data",
          "data": {
            "text/plain": [
              "<Figure size 432x288 with 1 Axes>"
            ],
            "image/png": "[encoded data removed]"
          },
          "metadata": {
            "needs_background": "light"
          }
        }
      ]
    },
    {
      "cell_type": "code",
      "source": [
        "# Plot the training and validation loss over epochs\n",
        "plt.plot(history.history['loss'])\n",
        "plt.plot(history.history['val_loss'])\n",
        "plt.title('Model Loss')\n",
        "plt.ylabel('Loss')\n",
        "plt.xlabel('Epoch')\n",
        "plt.legend(['Train', 'Validation'], loc='upper left')\n",
        "plt.show()"
      ],
      "metadata": {
        "id": "Ne5g4aG_cvWX",
        "colab": {
          "base_uri": "https://localhost:8080/",
          "height": 295
        },
        "outputId": "5f2c12e3-bb85-46ea-d7ea-b39e679e8f9c"
      },
      "execution_count": null,
      "outputs": [
        {
          "output_type": "display_data",
          "data": {
            "text/plain": [
              "<Figure size 432x288 with 1 Axes>"
            ],
            "image/png": "[encoded data removed]"
          },
          "metadata": {
            "needs_background": "light"
          }
        }
      ]
    },
    {
      "cell_type": "code",
      "source": [
        "#example of plot function\n",
        "x = [1, 2, 3, 4, 5]\n",
        "y = [1, 4, 9, 16, 25]\n",
        "\n",
        "a = [2, 4, 6, 8, 10]\n",
        "b = [1, 4, 9, 16, 25]\n",
        "\n",
        "plt.plot(x, y)\n",
        "plt.plot(a,b)\n",
        "plt.show()"
      ],
      "metadata": {
        "colab": {
          "base_uri": "https://localhost:8080/",
          "height": 265
        },
        "id": "ohWxutEbj8IA",
        "outputId": "9998c394-f83a-44d3-c3af-ee9415964b1f"
      },
      "execution_count": null,
      "outputs": [
        {
          "output_type": "display_data",
          "data": {
            "text/plain": [
              "<Figure size 432x288 with 1 Axes>"
            ],
            "image/png": "[encoded data removed]"
          },
          "metadata": {
            "needs_background": "light"
          }
        }
      ]
    },
    {
      "cell_type": "code",
      "source": [],
      "metadata": {
        "id": "Aqdz-TNUkcKY"
      },
      "execution_count": null,
      "outputs": []
    }
  ]
}